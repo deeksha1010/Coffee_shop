{
  "nbformat": 4,
  "nbformat_minor": 0,
  "metadata": {
    "colab": {
      "provenance": []
    },
    "kernelspec": {
      "name": "python3",
      "display_name": "Python 3"
    },
    "language_info": {
      "name": "python"
    }
  },
  "cells": [
    {
      "cell_type": "code",
      "execution_count": 1,
      "metadata": {
        "id": "tk8WPGikUV2p"
      },
      "outputs": [],
      "source": [
        "import random\n",
        "import cmd"
      ]
    },
    {
      "cell_type": "code",
      "source": [
        "class coffee_llm:\n",
        "    def __init__(self, knowledge_base=None):\n",
        "        self.default_knowledge = {\n",
        "            \"mocha\": \"The mocha is considered a coffee and hot chocolate hybrid. The chocolate powder or syrup gives it a rich and creamy flavor and cuts the acidity of caffeine.\",\n",
        "            \"cappuccino\": \"Cappuccino is an espresso-based coffee drink that is traditionally prepared with steamed milk including a layer of milk foam.\",\n",
        "            \"americano\": \"It is the espresso diluted with hot water for those who love to enjoy strong coffee.\",\n",
        "            \"latte\": \"Out of all the different types of coffees, latte is the most popular. It is also known as a caffè latte.\"\n",
        "        }\n",
        "        self.knowledge_base = knowledge_base or self.default_knowledge\n",
        "        self.conversation_history = []\n",
        "        self.prices = {\n",
        "            \"mocha\": 5.00,\n",
        "            \"cappuccino\": 4.00,\n",
        "            \"americano\": 3.50,\n",
        "            \"latte\": 4.50\n",
        "        }\n",
        "\n",
        "    def generate_content(self, prompt, temperature=0.5):\n",
        "        prompt = prompt.lower().strip()\n",
        "        for key, response in self.knowledge_base.items():\n",
        "            if key in prompt:\n",
        "                variations = [\n",
        "                    response,\n",
        "                    f\"That's a great choice! Let me tell you about {key}. {response}\",\n",
        "                    f\"That is my go-to choice too! Did you know {response}\"\n",
        "                ]\n",
        "                return random.choices(variations, weights=[1, temperature, temperature])[0]\n",
        "\n",
        "        if any(word in prompt for word in ['hello', 'hi', 'hey']):\n",
        "            return \"Hi there! I'm CocaBot. How can I help you today?\"\n",
        "\n",
        "        if any(word in prompt for word in ['help', 'menu', 'choice']):\n",
        "            return \"We have a variety of choices such as latte, cappuccino, matcha, mocha, and americano.\"\n",
        "\n",
        "        if 'matcha' in prompt:\n",
        "            return \"Sorry, we are out of matcha. Is there anything else I can help you with?\"\n",
        "\n",
        "        generic_responses = [\n",
        "            \"I'm not sure we have that. Maybe you can choose among these: latte, cappuccino, matcha, mocha, and americano.\",\n",
        "            \"Could you provide more context?\",\n",
        "            \"Hmm, I don't think we serve that.\"\n",
        "        ]\n",
        "        return random.choice(generic_responses)\n",
        "\n",
        "    def place_order(self, order_item, quantity=1):\n",
        "        \"\"\"Place an order and calculate the total cost.\"\"\"\n",
        "        order_item = order_item.lower().strip()\n",
        "        if order_item in self.prices:\n",
        "            total_cost = self.prices[order_item] * quantity\n",
        "            return f\"Your order of {quantity} {order_item}(s) will cost ${total_cost:.2f}.\"\n",
        "        else:\n",
        "            return \"Sorry, we don't have that item on the menu. Please choose from: mocha, cappuccino, americano, or latte.\"\n",
        "\n",
        "\n",
        "class SimpleCoffeeChat(cmd.Cmd):\n",
        "    intro = \"Welcome to Simple Coffee Bean Cafe, I'm CocaBot... I hope you have a great experience. Once you're done, type 'bye' to exit.\"\n",
        "    prompt = \"You: \"\n",
        "\n",
        "    def __init__(self):\n",
        "        super().__init__()\n",
        "        self.coffee_llm = coffee_llm()\n",
        "\n",
        "    def default(self, line):\n",
        "        response = self.coffee_llm.generate_content(line)\n",
        "        print(\"Model:\", response)\n",
        "\n",
        "    def do_order(self, arg):\n",
        "        \"\"\"Place an order with an optional quantity (e.g., 'latte 2').\"\"\"\n",
        "        parts = arg.split()\n",
        "        if len(parts) == 0:\n",
        "            print(\"Model: Please specify what you want to order.\")\n",
        "        else:\n",
        "            item = parts[0]\n",
        "            quantity = int(parts[1]) if len(parts) > 1 and parts[1].isdigit() else 1\n",
        "            response = self.coffee_llm.place_order(item, quantity)\n",
        "            print(\"Model:\", response)\n",
        "\n",
        "    def do_bye(self, arg):\n",
        "        print(\"I hope you have a great experience. Bye, see you soon! :)\")\n",
        "        return True\n",
        "\n",
        "def main():\n",
        "    SimpleCoffeeChat().cmdloop()\n",
        "\n",
        "if __name__ == \"__main__\":\n",
        "    main()\n"
      ],
      "metadata": {
        "colab": {
          "base_uri": "https://localhost:8080/"
        },
        "id": "CJm2T99nUg5M",
        "outputId": "daa377c4-45a3-4675-e9e2-21dab076ec1c"
      },
      "execution_count": 14,
      "outputs": [
        {
          "output_type": "stream",
          "name": "stdout",
          "text": [
            "Welcome to Simple Coffee Bean Cafe, I'm CocaBot... I hope you have a great experience. Once you're done, type 'bye' to exit.\n",
            "You: hi\n",
            "Model: Hi there! I'm CocaBot. How can I help you today?\n",
            "You: hi\n",
            "Model: Hi there! I'm CocaBot. How can I help you today?\n",
            "You: menu\n",
            "Model: We have a variety of choices such as latte, cappuccino, matcha, mocha, and americano.\n",
            "You: latte\n",
            "Model: That is my go-to choice too! Did you know Out of all the different types of coffees, latte is the most popular. It is also known as a caffè latte.\n",
            "You: bye\n",
            "I hope you have a great experience. Bye, see you soon! :)\n"
          ]
        }
      ]
    },
    {
      "cell_type": "code",
      "source": [],
      "metadata": {
        "id": "WnDz8TY9idp-"
      },
      "execution_count": null,
      "outputs": []
    }
  ]
}